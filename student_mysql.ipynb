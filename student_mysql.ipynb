{
 "cells": [
  {
   "cell_type": "code",
   "execution_count": 1,
   "metadata": {},
   "outputs": [
    {
     "name": "stdout",
     "output_type": "stream",
     "text": [
      "Requirement already satisfied: mysql-connector-python in c:\\users\\swetha\\anaconda3\\lib\\site-packages (8.0.29)\n",
      "Requirement already satisfied: protobuf>=3.0.0 in c:\\users\\swetha\\anaconda3\\lib\\site-packages (from mysql-connector-python) (4.21.1)\n"
     ]
    }
   ],
   "source": [
    "!pip install mysql-connector-python"
   ]
  },
  {
   "cell_type": "code",
   "execution_count": 3,
   "metadata": {},
   "outputs": [],
   "source": [
    "import mysql.connector"
   ]
  },
  {
   "cell_type": "code",
   "execution_count": 5,
   "metadata": {},
   "outputs": [
    {
     "name": "stdout",
     "output_type": "stream",
     "text": [
      "<mysql.connector.connection_cext.CMySQLConnection object at 0x000001913B95D160>\n"
     ]
    }
   ],
   "source": [
    "mydb = mysql.connector.connect(\n",
    "  host=\"localhost\",\n",
    "  user=\"root\",\n",
    "  password=\"\",\n",
    "  #database='student_db'\n",
    "  \n",
    ")\n",
    "\n",
    "print(mydb)\n",
    "mycursor = mydb.cursor(buffered=True)"
   ]
  },
  {
   "cell_type": "code",
   "execution_count": 3,
   "metadata": {},
   "outputs": [],
   "source": [
    "mycursor.execute(\"CREATE DATABASE student_db\")"
   ]
  },
  {
   "cell_type": "code",
   "execution_count": 6,
   "metadata": {},
   "outputs": [],
   "source": [
    "mycursor.execute(\"USE student_db \")"
   ]
  },
  {
   "cell_type": "code",
   "execution_count": 7,
   "metadata": {},
   "outputs": [],
   "source": [
    "mycursor.execute(\"CREATE TABLE student_data (id INT(6),name VARCHAR(50),aadhar_no INT(15),parent_name VARCHAR(50),parent_number INT(10))\")"
   ]
  },
  {
   "cell_type": "code",
   "execution_count": 9,
   "metadata": {},
   "outputs": [],
   "source": [
    "mycursor.execute(\"ALTER TABLE student_data ADD class INT(5) AFTER parent_number\")\n",
    "mydb.commit()"
   ]
  },
  {
   "cell_type": "code",
   "execution_count": 15,
   "metadata": {},
   "outputs": [],
   "source": [
    "#mycursor.execute(\"DROP TABLE student_data\")"
   ]
  },
  {
   "cell_type": "code",
   "execution_count": 10,
   "metadata": {},
   "outputs": [],
   "source": [
    "mycursor.execute(\"ALTER TABLE student_data ADD section VARCHAR(5) AFTER class\")\n",
    "mydb.commit()"
   ]
  },
  {
   "cell_type": "code",
   "execution_count": 27,
   "metadata": {},
   "outputs": [],
   "source": [
    "mycursor.execute(\"ALTER TABLE student_data ADD maths INT(10) AFTER section\")\n",
    "mydb.commit()"
   ]
  },
  {
   "cell_type": "code",
   "execution_count": 28,
   "metadata": {},
   "outputs": [],
   "source": [
    "mycursor.execute(\"ALTER TABLE student_data ADD science INT(10) AFTER maths\")\n",
    "mydb.commit()"
   ]
  },
  {
   "cell_type": "code",
   "execution_count": 29,
   "metadata": {},
   "outputs": [],
   "source": [
    "mycursor.execute(\"ALTER TABLE student_data ADD social INT(10) AFTER science\")\n",
    "mydb.commit()"
   ]
  },
  {
   "cell_type": "code",
   "execution_count": 30,
   "metadata": {},
   "outputs": [],
   "source": [
    "mycursor.execute(\"ALTER TABLE student_data ADD English INT(10) AFTER social\")\n",
    "mydb.commit()"
   ]
  },
  {
   "cell_type": "code",
   "execution_count": 91,
   "metadata": {},
   "outputs": [],
   "source": [
    "mycursor.execute(\"ALTER TABLE student_data DROP Fee_status\")\n",
    "mydb.commit()"
   ]
  },
  {
   "cell_type": "code",
   "execution_count": 92,
   "metadata": {},
   "outputs": [],
   "source": [
    "mycursor.execute(\"ALTER TABLE student_data ADD Fee_status VARCHAR(50) AFTER section\")\n",
    "mydb.commit()"
   ]
  },
  {
   "cell_type": "code",
   "execution_count": 38,
   "metadata": {},
   "outputs": [],
   "source": [
    "sql=\"\"\"INSERT INTO student_data(id,name,aadhar_no,parent_name,parent_number,class,section) VALUES(%s,%s,%s,%s,%s,%s,%s)\"\"\""
   ]
  },
  {
   "cell_type": "code",
   "execution_count": 39,
   "metadata": {},
   "outputs": [],
   "source": [
    "val=(\"220001\",'Ram','9876543210111','Ramesh','9929661','3','A')"
   ]
  },
  {
   "cell_type": "code",
   "execution_count": 40,
   "metadata": {},
   "outputs": [],
   "source": [
    "mycursor.execute(sql,val)\n",
    "mydb.commit()"
   ]
  },
  {
   "cell_type": "code",
   "execution_count": 37,
   "metadata": {},
   "outputs": [
    {
     "data": {
      "text/plain": [
       "<bound method CMySQLConnection.commit of <mysql.connector.connection_cext.CMySQLConnection object at 0x000001C4BBD34D00>>"
      ]
     },
     "execution_count": 37,
     "metadata": {},
     "output_type": "execute_result"
    }
   ],
   "source": [
    "#mycursor.execute(\"TRUNCATE student_data\")\n",
    "#mydb.commit"
   ]
  },
  {
   "cell_type": "code",
   "execution_count": 42,
   "metadata": {},
   "outputs": [],
   "source": [
    "val1=[\n",
    "    (\"220002\",'Ramya','9876543210112','Govind','9929661','3','A'),\n",
    "    (\"220003\",'Raghu','9876543210113','Sri Ram','9929662','3','A'),\n",
    "    (\"220004\",'Ravi','9876543210114','Ramesh','9929662','3','A'),\n",
    "    (\"220005\",'Rajesh','9876543210115','Balaji','9929662','3','A')\n",
    "]"
   ]
  },
  {
   "cell_type": "code",
   "execution_count": 44,
   "metadata": {},
   "outputs": [],
   "source": [
    "mycursor.executemany(sql,val1)\n",
    "mydb.commit()"
   ]
  },
  {
   "cell_type": "code",
   "execution_count": 29,
   "metadata": {},
   "outputs": [],
   "source": [
    "mycursor.execute(\"SELECT * FROM student_data\")\n"
   ]
  },
  {
   "cell_type": "code",
   "execution_count": 30,
   "metadata": {},
   "outputs": [],
   "source": [
    "data1=mycursor.fetchall()"
   ]
  },
  {
   "cell_type": "code",
   "execution_count": 31,
   "metadata": {},
   "outputs": [
    {
     "name": "stdout",
     "output_type": "stream",
     "text": [
      "(220001, 'Ram', 2147483647, 'Ramesh', 9929661, 3, 'A', 'PAID', 100, 100, 90, 88)\n",
      "\n",
      "(220002, 'Vithika', 2147483647, 'Govind', 9929661, 3, 'A', 'PAID', 100, 99, 98, 97)\n",
      "\n",
      "(220003, 'Smitha', 12345678, 'Sri Ram', 9929662, 3, 'A', None, 99, 98, 88, 90)\n",
      "\n",
      "(220004, 'Ravi', 2147483647, 'Ramesh', 9929662, 3, 'A', None, 90, 90, 80, 80)\n",
      "\n",
      "(220005, 'Rajesh', 12345, 'Balaji', 9929662, 3, 'A', None, 50, 50, 50, 50)\n",
      "\n",
      "(220007, 'Priya', 123554554, 'Prakash', 2147483647, 3, 'A', None, 34, 34, 34, 34)\n",
      "\n",
      "(220006, 'Priyanka', 234323543, 'Rajesh', 123435435, 3, 'A', 'PAID', 34, 23, 34, 80)\n",
      "\n",
      "(220008, 'Likitha', 12345544, 'Raghu', 6374666, 3, 'A', None, 33, 33, 33, 33)\n",
      "\n",
      "(220009, 'Rithika', 12122423, 'Rahul', 2123434, 3, 'A', None, None, None, None, None)\n",
      "\n"
     ]
    }
   ],
   "source": [
    "for row in data1:\n",
    "    print(row)\n",
    "    print(\"\")"
   ]
  },
  {
   "cell_type": "markdown",
   "metadata": {},
   "source": [
    "# Project 1"
   ]
  },
  {
   "cell_type": "code",
   "execution_count": 28,
   "metadata": {},
   "outputs": [
    {
     "name": "stdout",
     "output_type": "stream",
     "text": [
      "Enter teacher or admin :admin\n",
      "Enter 1 to add student details\n",
      "Enter 2 to view student details\n",
      "Enter 3 to update student details\n",
      "Enter 4 to delete student details\n",
      "Select the operation :1\n",
      "Enter the Id :220009\n",
      "Enter name of student :Rithika\n",
      "Enter aadhar_no :12122423\n",
      "Enter parent name :Rahul\n",
      "Enter parent  mobile number :2123434\n",
      "Enter class:3\n",
      "Enter setcion nameA\n"
     ]
    }
   ],
   "source": [
    "staff=input(\"Enter teacher or admin :\")\n",
    "if staff == 'admin' or staff=='Admin' or staff=='ADMIN':\n",
    "    print(\"Enter 1 to add student details\")\n",
    "    print(\"Enter 2 to view student details\")\n",
    "    print(\"Enter 3 to update student details\")\n",
    "    print(\"Enter 4 to delete student details\")\n",
    "    enter=input(\"Select the operation :\" )\n",
    "    if enter =='1':\n",
    "            id1=input(\"Enter the Id :\")\n",
    "            name1=input(\"Enter name of student :\")\n",
    "            aadhar_num1=input(\"Enter aadhar_no :\")\n",
    "            parent_name1=input(\"Enter parent name :\")\n",
    "            parent_num1=input(\"Enter parent  mobile number :\")\n",
    "            class1=input(\"Enter class:\")\n",
    "            sec1=input(\"Enter setcion name:\")\n",
    "            sql=\"\"\"INSERT INTO student_data(id,name,aadhar_no,parent_name,parent_number,class,section) VALUES(%s,%s,%s,%s,%s,%s,%s)\"\"\"\n",
    "            val=(id1,name1,aadhar_num1,parent_name1,parent_num1,class1,sec1)\n",
    "            mycursor.execute(sql,val)\n",
    "            mydb.commit()\n",
    "    elif enter==\"2\":\n",
    "            mycursor.execute(\"SELECT * FROM student_data\")\n",
    "            data1=mycursor.fetchall()\n",
    "            for row in data1:\n",
    "                print(row)\n",
    "                print(\"\")\n",
    "    elif enter ==\"3\":\n",
    "        try:\n",
    "            req_id=input(\"Enter the corrosponding ID number for updation :\")\n",
    "            mycursor.execute(\"SELECT * , COUNT(*) FROM student_data where id=%s\",(reg_id,))\n",
    "            print(\"Enter the numbber to update the required fields\")\n",
    "            print(\"1:Name\"+\"\\n\"+\"2:aadhar_no\"+\"\\n\"+\"3:Parent_name\"+\"\\n\"+\"4:Parent_number\"+\"\\n\"+\"5:class\"+\"\\n\"+\"6:section\")\n",
    "            sel=input(\"Enter the number\")\n",
    "            if sel==\"1\":\n",
    "                    #req_id=input(\"Enter the corrosponding ID number for updation :\")\n",
    "                    update_val=input(\"Enter the new value with which the field should be updated :\")\n",
    "                    sql_update=(\"UPDATE student_data SET name=%s  where id=%s\")\n",
    "                    mycursor.execute(sql_update,(update_val,req_id))\n",
    "                    mydb.commit()\n",
    "            elif sel==\"2\":\n",
    "                    update_val=input(\"Enter the new value with which the field should be updated\")\n",
    "                    sql_update=\"\"\"UPDATE student_data SET aadhar_no=%s  where id=%s\"\"\"\n",
    "                    mycursor.execute(sql_update,(update_val,req_id))\n",
    "                    mydb.commit()\n",
    "            elif sel==\"3\":\n",
    "                update_val=input(\"Enter the new value with which the field should be updated\")\n",
    "                sql_update=\"\"\"UPDATE student_data SET parent_name=%s  where id=%s\"\"\"\n",
    "                mycursor.execute(sql_update,(update_val,req_id))\n",
    "                mydb.commit()\n",
    "            elif sel==\"4\":\n",
    "                update_val=input(\"Enter the new value with which the field should be updated\")\n",
    "                sql_update=\"\"\"UPDATE student_data SET parent_number=%s where id=%s\"\"\"\n",
    "                mycursor.execute(sql_update,(update_val,req_id))\n",
    "                mydb.commit()\n",
    "            elif sel==\"5\":\n",
    "                update_val=input(\"Enter the new value with which the field should be updated\")\n",
    "                sql_update=\"\"\"UPDATE student_data SET class=%s  where id=%s\"\"\"\n",
    "                mycursor.execute(sql_update,(update_val,req_id))\n",
    "                mydb.commit()\n",
    "            elif sel==\"6\":\n",
    "                update_val=input(\"Enter the new value with which the field should be updated\")\n",
    "                sql_update=\"\"\"UPDATE student_data SET section=%s where id=%s\"\"\"\n",
    "                mycursor.execute(sql_update,(update_val,req_id))\n",
    "                mydb.commit()\n",
    "            else:\n",
    "                print(\"No such operation\")\n",
    "        except:\n",
    "            print(\"Registration ID does not exist\")\n",
    "    elif enter==\"4\":\n",
    "        try:\n",
    "            reg_id=input(\"Enter the corresponding id number for deletion :\")\n",
    "            mycursor.execute(\"SELECT * , COUNT(*) FROM student_data where id=%s\",(reg_id,))\n",
    "            sql_del=\"\"\" DELETE FROM student_data WHERE id=%s\"\"\"\n",
    "            mycursor.execute(sql_del,(reg_no,))\n",
    "            mydb.commit()\n",
    "        except:\n",
    "            print(\"Registration ID does not exist\")\n",
    "    else:\n",
    "        print(\"No such operation\")\n",
    "        \n",
    "        \n",
    "elif staff==\"teacher\" or staff==\"Teacher\" or staff==\"TEACHER\":\n",
    "    print(\"Enter the required number :\")\n",
    "    print(\"1:To insert marks\"+\"\\n\"+\"2:To update marks\"+\"\\n\"+\"3:Filter failed students from subject \")\n",
    "    enter=input(\"Enter required option: \")\n",
    "    if enter==\"1\":\n",
    "        req_no=input(\"Enter the registration number:\")\n",
    "        maths1=input(\"Enter maths marks:\")\n",
    "        science1=input(\"Enter science marks:\")\n",
    "        social1=input(\"Enter social marks:\")\n",
    "        english1=input(\"Enter english marks:\")\n",
    "        sql_update=\"\"\"UPDATE student_data SET maths=%s,science=%s,social=%s,english=%s where id=%s\"\"\"\n",
    "        mycursor.execute(sql_update,(maths1,science1,social1,english1,req_no))\n",
    "        mydb.commit()\n",
    "    elif enter==\"2\":\n",
    "        reg_no=input(\"Enter the id to update marks \")\n",
    "        try:\n",
    "            mycursor.execute(\"SELECT * , COUNT(*) FROM student_data where id=%s\",(reg_no,))\n",
    "            print(\"1:Maths \"+\"\\n\"+\"2:Science\"+\"\\n\"+\"3:Social\"+\"\\n\"+\"4:English\")\n",
    "            op1=input(\"Select the subject to update marks: \")\n",
    "            if op1==\"1\":\n",
    "                update_val=input(\"Enter the new value with which the field should be updated:\")\n",
    "                sql_update=\"\"\"UPDATE student_data SET maths=%s where id=%s\"\"\"\n",
    "                mycursor.execute(sql_update,(update_val,req_no))\n",
    "                mydb.commit()\n",
    "            elif op1==\"2\":\n",
    "                update_val=input(\"Enter the new value with which the field should be updated\")\n",
    "                sql_update=\"\"\"UPDATE student_data SET science=%s where id=%s\"\"\"\n",
    "                mycursor.execute(sql_update,(update_val,req_id))\n",
    "                mydb.commit()\n",
    "            elif op1==\"3\":\n",
    "                update_val=input(\"Enter the new value with which the field should be updated\")\n",
    "                sql_update=\"\"\"UPDATE student_data SET social=%s where id=%s\"\"\"\n",
    "                mycursor.execute(sql_update,(update_val,req_id))\n",
    "                mydb.commit()\n",
    "            elif op1==\"4\":\n",
    "                update_val=input(\"Enter the new value with which the field should be updated\")\n",
    "                sql_update=\"\"\"UPDATE student_data SET english=%s where id=%s\"\"\"\n",
    "                mycursor.execute(sql_update,(update_val,req_id))\n",
    "                mydb.commit()\n",
    "            else:\n",
    "                print(\"No such operation\")\n",
    "        except:\n",
    "            print(\"Reg number doesnt exist\")\n",
    "    elif enter==\"3\":\n",
    "        print(\"1:Maths \"+\"\\n\"+\"2:Science\"+\"\\n\"+\"3:Social\"+\"\\n\"+\"4:English\")\n",
    "        sub=input(\"Enter the subject:\")\n",
    "        if sub==\"1\":\n",
    "            mycursor.execute(\"SELECT name FROM student_data WHERE maths <35 \")\n",
    "            data1=mycursor.fetchall()\n",
    "            for row in data1:\n",
    "                print(row)\n",
    "                print(\"\")\n",
    "        elif sub==\"2\":\n",
    "            mycursor.execute(\"SELECT name FROM student_data WHERE science <35 \")\n",
    "            data1=mycursor.fetchall()\n",
    "            for row in data1:\n",
    "                print(row)\n",
    "                print(\"\")\n",
    "        elif sub==\"3\":\n",
    "            mycursor.execute(\"SELECT name FROM student_data WHERE social <35 \")\n",
    "            data1=mycursor.fetchall()\n",
    "            for row in data1:\n",
    "                print(row)\n",
    "                print(\"\")\n",
    "        elif sub==\"4\":\n",
    "            mycursor.execute(\"SELECT name FROM student_data WHERE english <35 \")\n",
    "            data1=mycursor.fetchall()\n",
    "            for row in data1:\n",
    "                print(row)\n",
    "                print(\"\")\n",
    "        else:\n",
    "            print(\"No such operation\")\n",
    "    else:\n",
    "        print(\"Invalid Entry\")\n",
    "                \n",
    "            \n",
    "            \n",
    "        \n",
    "        \n",
    "        \n",
    "\n",
    "        \n",
    "                \n",
    "        \n",
    "        "
   ]
  },
  {
   "cell_type": "markdown",
   "metadata": {},
   "source": [
    "# Project 2 (using GUI)"
   ]
  },
  {
   "cell_type": "code",
   "execution_count": null,
   "metadata": {},
   "outputs": [],
   "source": [
    "enter=input(\"Admin or teacher :\")\n",
    "if enter==\"Admin\" or enter==\"admin\" or enter==\"ADMIN\":\n",
    "    print(\"1.To view all the student details\")\n",
    "    print(\"2. To update the fee_status using reg_no\")\n",
    "    value=input(\"Select the requirement: \")\n",
    "    if value=='1':\n",
    "        root=Tk()\n",
    "        root.title(\"Student_data\")\n",
    "        #root.geometry('600x400')\n",
    "\n",
    "        mycursor.execute(\"SELECT * FROM student_data\")\n",
    "        tree=ttk.Treeview(root,selectmode=\"browse\")\n",
    "\n",
    "        tree[\"show\"]=\"headings\"\n",
    "\n",
    "        s=ttk.Style(root)\n",
    "        s.theme_use('clam')\n",
    "\n",
    "        tree[\"columns\"]=(\"id\",\"name\",\"aadhar_no\",\"parent_name\",\"parent_number\",\"class\",\"section\",\"Fee_status\")\n",
    "\n",
    "        tree.column(\"id\",width=50,minwidth=50,anchor=tk.CENTER)\n",
    "        tree.column(\"name\",width=100,minwidth=50,anchor=tk.CENTER)\n",
    "        tree.column(\"aadhar_no\",width=100,minwidth=100,anchor=tk.CENTER)\n",
    "        tree.column(\"parent_name\",width=100,minwidth=50,anchor=tk.CENTER)\n",
    "        tree.column(\"parent_number\",width=100,minwidth=50,anchor=tk.CENTER)\n",
    "        tree.column(\"class\",width=50,minwidth=50,anchor=tk.CENTER)\n",
    "        tree.column(\"section\",width=75,minwidth=75,anchor=tk.CENTER)\n",
    "        tree.column(\"Fee_status\",width=75,minwidth=75,anchor=tk.CENTER)\n",
    "\n",
    "\n",
    "        tree.heading(\"id\",text=\"ID\",anchor=tk.CENTER)\n",
    "        tree.heading(\"name\",text=\"NAME\",anchor=tk.CENTER)\n",
    "        tree.heading(\"aadhar_no\",text=\"AADHAR_NO\",anchor=tk.CENTER)\n",
    "        tree.heading(\"parent_name\",text=\"PARENT_NAME\",anchor=tk.CENTER)\n",
    "        tree.heading(\"parent_number\",text=\"PARENT_NUMBER\",anchor=tk.CENTER)\n",
    "        tree.heading(\"class\",text=\"CLASS\",anchor=tk.CENTER)\n",
    "        tree.heading(\"section\",text=\"SECTION\",anchor=tk.CENTER)\n",
    "        tree.heading(\"Fee_status\",text=\"FEE_STATUS\",anchor=tk.CENTER)\n",
    "\n",
    "        for row in mycursor:\n",
    "            tree.insert(\"\",\"end\",iid=row[0],values=(row[0],row[1],row[2],row[3],row[4],row[5],row[6],row[7]))\n",
    "\n",
    "\n",
    "        hsb=ttk.Scrollbar(root,orient=\"horizontal\")\n",
    "        hsb.configure(command=tree.xview)\n",
    "        tree.configure(xscrollcommand=hsb.set)\n",
    "        hsb.pack(fill=X,side=BOTTOM)\n",
    "\n",
    "\n",
    "        vsb=ttk.Scrollbar(root,orient=\"vertical\")\n",
    "        vsb.configure(command=tree.yview)\n",
    "        tree.configure(yscrollcommand=vsb.set)\n",
    "        vsb.pack(fill=Y,side=RIGHT)\n",
    "\n",
    "\n",
    "        tree.pack()\n",
    "        root.mainloop()\n",
    "\n",
    "    elif value=='2':\n",
    "        \n",
    "        root1=Tk()\n",
    "        root1.title(\"Fee_details\")\n",
    "\n",
    "        label1=Label(root1,anchor = NW,text=\" enter the registration number \",fg=\"black\",font=(\"Courier\",10))\n",
    "        label1.grid(row=0,column=0,padx=20,pady=20)\n",
    "\n",
    "        e=Entry(root1,width=50,fg=\"black\",bg=\"white\",borderwidth=3)\n",
    "        e.grid(row=0,column=2)\n",
    "        e.insert(0,\"\") \n",
    "\n",
    "        label2=Label(root1,anchor = NW,text=\" Enter the updated fee status \",fg=\"black\",font=(\"Courier\",10))\n",
    "        label2.grid(row=2,column=0,padx=20,pady=20)\n",
    "\n",
    "\n",
    "        e2=Entry(root1,width=50,fg=\"black\",bg=\"white\",borderwidth=3)\n",
    "        e2.grid(row=2,column=2)\n",
    "        e2.insert(0,\"\") \n",
    "\n",
    "\n",
    "        def start1():\n",
    "            reg_no=e.get()\n",
    "            update_val=e2.get()\n",
    "            sql_update=\"\"\"UPDATE student_data SET Fee_status=%s where id=%s\"\"\"\n",
    "            mycursor.execute(sql_update,(update_val,reg_no))\n",
    "            mydb.commit()\n",
    "\n",
    "\n",
    "\n",
    "\n",
    "        Button10=Button(root1,text=\"Enter\",command=start1,width=30)\n",
    "        Button10.grid(row=5,column=2,padx=40,pady=20)\n",
    "\n",
    "\n",
    "        root1.mainloop()\n",
    "        \n",
    "    else:\n",
    "        root2=Tk()\n",
    "        \n",
    "        label10=Label(root2,anchor = NW,text=\"Invalid Entry\",fg=\"black\",font=(\"Courier\",10))\n",
    "        label10.grid(row=0,column=0,padx=20,pady=20)\n",
    "\n",
    "        root2.mainloop()\n",
    "\n",
    "elif enter==\"Teacher\" or enter==\"teacher\" or enter==\"TEACHER\":\n",
    "        root=Tk()\n",
    "        root.title(\"Teacher\")\n",
    "        #root.geometry('600x400')\n",
    "        \n",
    "        label1=Label(root,anchor = NW,text=\"Enter the registration number to\"+\"\\n\"+\"view the marks of the student \",fg=\"black\",font=(\"Courier\",10))\n",
    "        label1.grid(row=0,column=2,padx=20,pady=20)\n",
    "\n",
    "        label=Label(root,anchor = NW,text=\"Enter the registration number \",fg=\"black\",font=(\"Courier\",10))\n",
    "        label.grid(row=1,column=0,padx=20,pady=20)\n",
    "\n",
    "        e=Entry(root,width=50,fg=\"black\",bg=\"white\",borderwidth=3)\n",
    "        e.grid(row=1,column=2)\n",
    "        e.insert(0,\"\") \n",
    "\n",
    "\n",
    "        def start():\n",
    "            reg_id=e.get()\n",
    "            sql=\"\"\"SELECT * FROM student_data where id=%s\"\"\"\n",
    "            mycursor.execute(sql,(reg_id,))\n",
    "            tree=ttk.Treeview(root,selectmode=\"browse\")\n",
    "\n",
    "            tree[\"show\"]=\"headings\"\n",
    "\n",
    "            s=ttk.Style(root)\n",
    "            s.theme_use('clam')\n",
    "\n",
    "            tree[\"columns\"]=(\"id\",\"name\",\"maths\",\"science\",\"social\",\"English\")\n",
    "\n",
    "            tree.column(\"id\",width=50,minwidth=50,anchor=tk.CENTER)\n",
    "            tree.column(\"name\",width=100,minwidth=50,anchor=tk.CENTER)\n",
    "            tree.column(\"maths\",width=100,minwidth=50,anchor=tk.CENTER)\n",
    "            tree.column(\"science\",width=100,minwidth=50,anchor=tk.CENTER)\n",
    "            tree.column(\"social\",width=100,minwidth=100,anchor=tk.CENTER)\n",
    "            tree.column(\"English\",width=100,minwidth=50,anchor=tk.CENTER)\n",
    "\n",
    "            tree.heading(\"id\",text=\"REG_ID\",anchor=tk.CENTER)\n",
    "            tree.heading(\"name\",text=\"NAME\",anchor=tk.CENTER)\n",
    "            tree.heading(\"maths\",text=\"MATHS\",anchor=tk.CENTER)\n",
    "            tree.heading(\"science\",text=\"SCIENCE\",anchor=tk.CENTER)\n",
    "            tree.heading(\"social\",text=\"SOCIAL\",anchor=tk.CENTER)\n",
    "            tree.heading(\"English\",text=\"ENGLISH\",anchor=tk.CENTER)\n",
    "\n",
    "            for row in mycursor:\n",
    "                tree.insert(\"\",\"end\",iid=row[0],values=(row[0],row[1],row[8],row[9],row[10],row[11]))\n",
    "\n",
    "            tree.grid(row=2,column=2)\n",
    "\n",
    "\n",
    "\n",
    "        Button3=Button(root,text=\"Enter\",command=start,width=30)\n",
    "        Button3.grid(row=1,column=4,padx=40,pady=20)\n",
    "\n",
    "        root.mainloop()\n",
    "else:\n",
    "    print(\"Invalid Entry\")"
   ]
  }
 ],
 "metadata": {
  "kernelspec": {
   "display_name": "Python 3",
   "language": "python",
   "name": "python3"
  },
  "language_info": {
   "codemirror_mode": {
    "name": "ipython",
    "version": 3
   },
   "file_extension": ".py",
   "mimetype": "text/x-python",
   "name": "python",
   "nbconvert_exporter": "python",
   "pygments_lexer": "ipython3",
   "version": "3.8.5"
  }
 },
 "nbformat": 4,
 "nbformat_minor": 4
}
